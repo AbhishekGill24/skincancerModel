{
  "cells": [
    {
      "cell_type": "code",
      "execution_count": 1,
      "metadata": {
        "colab": {
          "base_uri": "https://localhost:8080/"
        },
        "id": "qDB7UCbspV_V",
        "outputId": "1760121d-9979-41a7-b23b-44a2e18b58b6"
      },
      "outputs": [
        {
          "output_type": "stream",
          "name": "stdout",
          "text": [
            "Collecting fastapi\n",
            "  Downloading fastapi-0.103.0-py3-none-any.whl (66 kB)\n",
            "\u001b[?25l     \u001b[90m━━━━━━━━━━━━━━━━━━━━━━━━━━━━━━━━━━━━━━━━\u001b[0m \u001b[32m0.0/66.2 kB\u001b[0m \u001b[31m?\u001b[0m eta \u001b[36m-:--:--\u001b[0m\r\u001b[2K     \u001b[91m━━━━━━━━━━━━━━━━━━━━━━━━━━━━━━━━━━━━━\u001b[0m\u001b[90m╺\u001b[0m\u001b[90m━━\u001b[0m \u001b[32m61.4/66.2 kB\u001b[0m \u001b[31m1.9 MB/s\u001b[0m eta \u001b[36m0:00:01\u001b[0m\r\u001b[2K     \u001b[90m━━━━━━━━━━━━━━━━━━━━━━━━━━━━━━━━━━━━━━━━\u001b[0m \u001b[32m66.2/66.2 kB\u001b[0m \u001b[31m1.6 MB/s\u001b[0m eta \u001b[36m0:00:00\u001b[0m\n",
            "\u001b[?25hRequirement already satisfied: pydantic!=1.8,!=1.8.1,!=2.0.0,!=2.0.1,!=2.1.0,<3.0.0,>=1.7.4 in /usr/local/lib/python3.10/dist-packages (from fastapi) (2.2.1)\n",
            "Collecting starlette<0.28.0,>=0.27.0 (from fastapi)\n",
            "  Downloading starlette-0.27.0-py3-none-any.whl (66 kB)\n",
            "\u001b[2K     \u001b[90m━━━━━━━━━━━━━━━━━━━━━━━━━━━━━━━━━━━━━━━━\u001b[0m \u001b[32m67.0/67.0 kB\u001b[0m \u001b[31m2.8 MB/s\u001b[0m eta \u001b[36m0:00:00\u001b[0m\n",
            "\u001b[?25hRequirement already satisfied: typing-extensions>=4.5.0 in /usr/local/lib/python3.10/dist-packages (from fastapi) (4.7.1)\n",
            "Requirement already satisfied: annotated-types>=0.4.0 in /usr/local/lib/python3.10/dist-packages (from pydantic!=1.8,!=1.8.1,!=2.0.0,!=2.0.1,!=2.1.0,<3.0.0,>=1.7.4->fastapi) (0.5.0)\n",
            "Requirement already satisfied: pydantic-core==2.6.1 in /usr/local/lib/python3.10/dist-packages (from pydantic!=1.8,!=1.8.1,!=2.0.0,!=2.0.1,!=2.1.0,<3.0.0,>=1.7.4->fastapi) (2.6.1)\n",
            "Requirement already satisfied: anyio<5,>=3.4.0 in /usr/local/lib/python3.10/dist-packages (from starlette<0.28.0,>=0.27.0->fastapi) (3.7.1)\n",
            "Requirement already satisfied: idna>=2.8 in /usr/local/lib/python3.10/dist-packages (from anyio<5,>=3.4.0->starlette<0.28.0,>=0.27.0->fastapi) (3.4)\n",
            "Requirement already satisfied: sniffio>=1.1 in /usr/local/lib/python3.10/dist-packages (from anyio<5,>=3.4.0->starlette<0.28.0,>=0.27.0->fastapi) (1.3.0)\n",
            "Requirement already satisfied: exceptiongroup in /usr/local/lib/python3.10/dist-packages (from anyio<5,>=3.4.0->starlette<0.28.0,>=0.27.0->fastapi) (1.1.3)\n",
            "Installing collected packages: starlette, fastapi\n",
            "Successfully installed fastapi-0.103.0 starlette-0.27.0\n",
            "Collecting uvicorn\n",
            "  Downloading uvicorn-0.23.2-py3-none-any.whl (59 kB)\n",
            "\u001b[2K     \u001b[90m━━━━━━━━━━━━━━━━━━━━━━━━━━━━━━━━━━━━━━━━\u001b[0m \u001b[32m59.5/59.5 kB\u001b[0m \u001b[31m1.1 MB/s\u001b[0m eta \u001b[36m0:00:00\u001b[0m\n",
            "\u001b[?25hRequirement already satisfied: click>=7.0 in /usr/local/lib/python3.10/dist-packages (from uvicorn) (8.1.7)\n",
            "Collecting h11>=0.8 (from uvicorn)\n",
            "  Downloading h11-0.14.0-py3-none-any.whl (58 kB)\n",
            "\u001b[2K     \u001b[90m━━━━━━━━━━━━━━━━━━━━━━━━━━━━━━━━━━━━━━━━\u001b[0m \u001b[32m58.3/58.3 kB\u001b[0m \u001b[31m1.3 MB/s\u001b[0m eta \u001b[36m0:00:00\u001b[0m\n",
            "\u001b[?25hRequirement already satisfied: typing-extensions>=4.0 in /usr/local/lib/python3.10/dist-packages (from uvicorn) (4.7.1)\n",
            "Installing collected packages: h11, uvicorn\n",
            "Successfully installed h11-0.14.0 uvicorn-0.23.2\n",
            "Collecting pyngrok\n",
            "  Downloading pyngrok-6.0.0.tar.gz (681 kB)\n",
            "\u001b[2K     \u001b[90m━━━━━━━━━━━━━━━━━━━━━━━━━━━━━━━━━━━━━━━\u001b[0m \u001b[32m681.2/681.2 kB\u001b[0m \u001b[31m6.2 MB/s\u001b[0m eta \u001b[36m0:00:00\u001b[0m\n",
            "\u001b[?25h  Preparing metadata (setup.py) ... \u001b[?25l\u001b[?25hdone\n",
            "Requirement already satisfied: PyYAML in /usr/local/lib/python3.10/dist-packages (from pyngrok) (6.0.1)\n",
            "Building wheels for collected packages: pyngrok\n",
            "  Building wheel for pyngrok (setup.py) ... \u001b[?25l\u001b[?25hdone\n",
            "  Created wheel for pyngrok: filename=pyngrok-6.0.0-py3-none-any.whl size=19867 sha256=486c76e6eb945f1312997e83bf66ab0913b7f306d3a75c727657037686ba100d\n",
            "  Stored in directory: /root/.cache/pip/wheels/5c/42/78/0c3d438d7f5730451a25f7ac6cbf4391759d22a67576ed7c2c\n",
            "Successfully built pyngrok\n",
            "Installing collected packages: pyngrok\n",
            "Successfully installed pyngrok-6.0.0\n",
            "Authtoken saved to configuration file: /root/.ngrok2/ngrok.yml\n",
            "Collecting python-multipart\n",
            "  Downloading python_multipart-0.0.6-py3-none-any.whl (45 kB)\n",
            "\u001b[2K     \u001b[90m━━━━━━━━━━━━━━━━━━━━━━━━━━━━━━━━━━━━━━━━\u001b[0m \u001b[32m45.7/45.7 kB\u001b[0m \u001b[31m1.2 MB/s\u001b[0m eta \u001b[36m0:00:00\u001b[0m\n",
            "\u001b[?25hInstalling collected packages: python-multipart\n",
            "Successfully installed python-multipart-0.0.6\n"
          ]
        }
      ],
      "source": [
        "!pip install fastapi\n",
        "!pip install uvicorn\n",
        "!pip install pyngrok\n",
        "!ngrok config add-authtoken 2SYBrn39spKZfP68C1ROobs0fBp_4bUQuiZ6wS3Qc1hom4x1E\n",
        "!pip install python-multipart\n",
        "\n",
        "import nest_asyncio\n",
        "from fastapi import FastAPI\n",
        "from pyngrok import ngrok\n",
        "import uvicorn\n",
        "\n",
        "from fastapi.responses import HTMLResponse\n",
        "from fastapi import File, UploadFile\n",
        "\n",
        "import numpy as np\n",
        "from PIL import Image\n",
        "from sklearn.preprocessing import LabelEncoder\n",
        "from tensorflow.keras.models import load_model"
      ]
    },
    {
      "cell_type": "code",
      "execution_count": 2,
      "metadata": {
        "colab": {
          "base_uri": "https://localhost:8080/"
        },
        "id": "tF0IwtVhx3s_",
        "outputId": "e8b81c30-7c2a-4713-d62a-f24bf7820da2"
      },
      "outputs": [
        {
          "output_type": "stream",
          "name": "stdout",
          "text": [
            "Mounted at /content/drive\n"
          ]
        }
      ],
      "source": [
        "from google.colab import drive\n",
        "drive.mount('/content/drive')"
      ]
    },
    {
      "cell_type": "code",
      "execution_count": 39,
      "metadata": {
        "id": "2Lo0b7EyxydS"
      },
      "outputs": [],
      "source": [
        "import tensorflow as tf\n",
        "model = tf.keras.models.load_model(\"/content/drive/MyDrive/model.h5\")"
      ]
    },
    {
      "cell_type": "code",
      "execution_count": 40,
      "metadata": {
        "id": "S4FnY0-Kw0K6"
      },
      "outputs": [],
      "source": [
        "file_path = '/content/drive/MyDrive/Colab Notebooks/skincancerModel/templates/new.html'"
      ]
    },
    {
      "cell_type": "code",
      "execution_count": 40,
      "metadata": {
        "id": "4M_b1NVR3OrS"
      },
      "outputs": [],
      "source": []
    },
    {
      "cell_type": "code",
      "execution_count": 41,
      "metadata": {
        "id": "icXO0fbs2qDg"
      },
      "outputs": [],
      "source": [
        "def getPrediction(img):\n",
        "\n",
        "    classes = ['Actinic keratoses', 'Basal cell carcinoma',\n",
        "               'Benign keratosis-like lesions', 'Dermatofibroma', 'Melanoma',\n",
        "               'Melanocytic nevi', 'Vascular lesions']\n",
        "    le = LabelEncoder()\n",
        "    le.fit(classes)\n",
        "    le.inverse_transform([2])\n",
        "\n",
        "\n",
        "    # #Load model\n",
        "    # my_model=load_model(\"models/model.h5\")\n",
        "\n",
        "    # SIZE = 32 #Resize to same size as training images\n",
        "    # img_path = 'static/images/'+filename\n",
        "    # img = np.asarray(Image.open(img_path).resize((SIZE,SIZE)))\n",
        "\n",
        "    img = img/255.      #Scale pixel values\n",
        "\n",
        "    img = np.expand_dims(img, axis=0)  #Get it tready as input to the network\n",
        "\n",
        "    pred = model.predict(img) #Predict\n",
        "\n",
        "    #Convert prediction to class name\n",
        "    pred_class = le.inverse_transform([np.argmax(pred)])[0]\n",
        "    print(\"Diagnosis is:\", pred_class)\n",
        "    return pred_class\n"
      ]
    },
    {
      "cell_type": "code",
      "execution_count": 42,
      "metadata": {
        "id": "fdp6cn3Opaa0"
      },
      "outputs": [],
      "source": [
        "# SIZE = 32\n",
        "\n",
        "# @app.post(\"/upload\")\n",
        "# def upload(file: UploadFile = File(...)):\n",
        "#     try:\n",
        "#         contents = file.file.read()\n",
        "#         # image = np.frombuffer(contents, np.uint8)\n",
        "#         # image=image.resize(SIZE,SIZE)\n",
        "#         # pred = getPrediction(image)\n",
        "#         #return pred\n",
        "#         with open(file.filename, 'wb') as f:\n",
        "#             f.write(contents)\n",
        "#     except Exception:\n",
        "#         return {\"message\": \"There was an error uploading the file\"}\n",
        "#     finally:\n",
        "#         file.file.close()\n",
        "#     return {\"message\": f\"Successfully uploaded {file.filename}\"}"
      ]
    },
    {
      "cell_type": "code",
      "execution_count": 43,
      "metadata": {
        "id": "hiBaRQpE6nJ-"
      },
      "outputs": [],
      "source": [
        "app = FastAPI()\n",
        "\n",
        "@app.get(\"/\")\n",
        "async def root():\n",
        "    with open(file_path, \"r\") as file:\n",
        "        content = file.read()\n",
        "    return HTMLResponse(content=content)"
      ]
    },
    {
      "cell_type": "code",
      "execution_count": 44,
      "metadata": {
        "id": "_WytXjzCwyGG"
      },
      "outputs": [],
      "source": [
        "# @app.get(\"/\")\n",
        "# async def get_homepage():\n",
        "#     with open(file_path, \"r\") as file:\n",
        "#         content = file.read()\n",
        "#     return HTMLResponse(content=content)"
      ]
    },
    {
      "cell_type": "code",
      "execution_count": 45,
      "metadata": {
        "id": "q0b8Lq2y27Y6"
      },
      "outputs": [],
      "source": [
        "@app.post(\"/upload\")\n",
        "def upload(file: UploadFile = File(...)):\n",
        "    try:\n",
        "        contents = file.file.read()\n",
        "        image = np.asarray(Image.open(file.filename).resize((32,32)))\n",
        "        pred = getPrediction(image)\n",
        "        with open(file.filename, 'wb') as f:\n",
        "            f.write(contents)\n",
        "    except Exception as e:\n",
        "        return {\"hi iam abhishek gill\"}\n",
        "    finally:\n",
        "        file.file.close()\n",
        "\n",
        "    return {\"message\": f\"Successfully uploaded {pred}\"}\n",
        "    # return {\"Diagnosis for the following image is\": pred}\n",
        "    #return \"123\"\n",
        "    #return redirect('/')\n"
      ]
    },
    {
      "cell_type": "code",
      "execution_count": 45,
      "metadata": {
        "id": "k551KYi6072U"
      },
      "outputs": [],
      "source": []
    },
    {
      "cell_type": "code",
      "execution_count": null,
      "metadata": {
        "id": "mt6UHJY0piCR"
      },
      "outputs": [],
      "source": [
        "ngrok_tunnel = ngrok.connect(8000)\n",
        "print('Public URL:', ngrok_tunnel.public_url)\n",
        "\n",
        "nest_asyncio.apply()\n",
        "uvicorn.run(app,port=8000)"
      ]
    },
    {
      "cell_type": "code",
      "execution_count": null,
      "metadata": {
        "id": "UFPVCIh6qDHV"
      },
      "outputs": [],
      "source": []
    }
  ],
  "metadata": {
    "colab": {
      "provenance": []
    },
    "kernelspec": {
      "display_name": "Python 3",
      "name": "python3"
    },
    "language_info": {
      "name": "python"
    }
  },
  "nbformat": 4,
  "nbformat_minor": 0
}